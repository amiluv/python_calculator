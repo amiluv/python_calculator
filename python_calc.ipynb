{
 "cells": [
  {
   "cell_type": "markdown",
   "metadata": {},
   "source": [
    "Напишите простой калькулятор, который считывает с пользовательского ввода три строки: первое число, второе число и операцию, после чего применяет операцию к введённым числам (\"первое число\" \"операция\" \"второе число\") и выводит результат на экран.\n",
    "\n",
    "Поддерживаемые операции: +, -, /, *, mod, pow, div, где\n",
    "mod — это взятие остатка от деления,\n",
    "pow — возведение в степень,\n",
    "div — целочисленное деление.\n",
    "\n",
    "Если выполняется деление и второе число равно 0, необходимо выводить строку \"Деление на 0!\".\n",
    "\n",
    "Обратите внимание, что на вход программе приходят вещественные числа."
   ]
  },
  {
   "cell_type": "code",
   "execution_count": null,
   "metadata": {},
   "outputs": [],
   "source": [
    "a = float(input())\n",
    "b = float(input())\n",
    "operation = input()\n",
    "if operation == '+':\n",
    "    print(a + b)\n",
    "elif operation == '-':\n",
    "    print(a - b)\n",
    "elif operation == '*':\n",
    "    print(a * b)\n",
    "elif operation == 'pow':\n",
    "    print(a ** b)\n",
    "elif operation == 'div':\n",
    "    if b != 0:\n",
    "        print(a // b)\n",
    "    else:\n",
    "        print('Деление на 0!')\n",
    "elif operation == '/':\n",
    "    if b != 0:\n",
    "        print(a / b)\n",
    "    else:\n",
    "        print('Деление на 0!')\n",
    "elif operation == 'mod':\n",
    "    if b != 0:\n",
    "        print(a % b)\n",
    "    else:\n",
    "        print('Деление на 0!')\n"
   ]
  }
 ],
 "metadata": {
  "kernelspec": {
   "display_name": "Python 3",
   "language": "python",
   "name": "python3"
  },
  "language_info": {
   "codemirror_mode": {
    "name": "ipython",
    "version": 3
   },
   "file_extension": ".py",
   "mimetype": "text/x-python",
   "name": "python",
   "nbconvert_exporter": "python",
   "pygments_lexer": "ipython3",
   "version": "3.7.4"
  }
 },
 "nbformat": 4,
 "nbformat_minor": 2
}
